{
  "nbformat": 4,
  "nbformat_minor": 0,
  "metadata": {
    "colab": {
      "name": "Object_Detection.ipynb",
      "provenance": [],
      "collapsed_sections": [],
      "machine_shape": "hm"
    },
    "kernelspec": {
      "name": "python3",
      "display_name": "Python 3"
    },
    "accelerator": "TPU"
  },
  "cells": [
    {
      "cell_type": "code",
      "metadata": {
        "id": "_ZOcRhak71MH",
        "colab_type": "code",
        "colab": {}
      },
      "source": [
        "from tensorflow import keras\n",
        "from tensorflow.keras import layers\n",
        "from google.colab import files\n",
        "\n",
        "import tensorflow as tf\n",
        "\n",
        "from tensorflow.keras.optimizers import RMSprop\n",
        "\n",
        "from tensorflow.keras.preprocessing.image import ImageDataGenerator\n",
        "\n",
        "import matplotlib.pyplot as plt\n",
        "import matplotlib.image as mpimg\n",
        "from matplotlib.legend_handler import HandlerLine2D\n",
        "\n",
        "\n",
        "import cv2\n",
        "\n",
        "import pandas as pd\n",
        "import imgaug as ia\n",
        "import imgaug.augmenters as iaa\n",
        "from imgaug.augmentables.bbs import BoundingBox, BoundingBoxesOnImage\n",
        "\n",
        "import keras.backend as K"
      ],
      "execution_count": null,
      "outputs": []
    },
    {
      "cell_type": "code",
      "metadata": {
        "id": "PTu3jj2Xt5An",
        "colab_type": "code",
        "colab": {
          "base_uri": "https://localhost:8080/",
          "height": 122
        },
        "outputId": "545ec123-5abc-4dc0-b7ca-ea9af6f31fb5"
      },
      "source": [
        "from google.colab import drive\n",
        "\n",
        "drive.mount('/content/drive')"
      ],
      "execution_count": null,
      "outputs": [
        {
          "output_type": "stream",
          "text": [
            "Go to this URL in a browser: https://accounts.google.com/o/oauth2/auth?client_id=947318989803-6bn6qk8qdgf4n4g3pfee6491hc0brc4i.apps.googleusercontent.com&redirect_uri=urn%3aietf%3awg%3aoauth%3a2.0%3aoob&scope=email%20https%3a%2f%2fwww.googleapis.com%2fauth%2fdocs.test%20https%3a%2f%2fwww.googleapis.com%2fauth%2fdrive%20https%3a%2f%2fwww.googleapis.com%2fauth%2fdrive.photos.readonly%20https%3a%2f%2fwww.googleapis.com%2fauth%2fpeopleapi.readonly&response_type=code\n",
            "\n",
            "Enter your authorization code:\n",
            "··········\n",
            "Mounted at /content/drive\n"
          ],
          "name": "stdout"
        }
      ]
    },
    {
      "cell_type": "code",
      "metadata": {
        "id": "MVhDdBg4_FhY",
        "colab_type": "code",
        "colab": {}
      },
      "source": [
        "# Download training data and pre-trained model\n",
        "def setData():\n",
        "  !mkdir data/\n",
        "\n",
        "  !wget --no-check-certificate -r 'https://docs.google.com/uc?export=download&id=1yC87SJnkowEPZ3XoBZ0uQTbGUGmKJbs2' -O data/data.zip\n",
        "  !wget --no-check-certificate -r 'https://docs.google.com/uc?export=download&id=1_rVIcU6sBRS321dwnTO3htf83C7p3jY3' -O data/model.h5\n",
        "\n",
        "  !mkdir data/data\n",
        "  !unzip data/data.zip -d data/data\n",
        "  !mkdir data/data/train_aug\n",
        "  !mkdir data/data/valid_resized\n",
        "  !mkdir data/data/resized"
      ],
      "execution_count": null,
      "outputs": []
    },
    {
      "cell_type": "markdown",
      "metadata": {
        "id": "yT8H5nd0Eocd",
        "colab_type": "text"
      },
      "source": [
        "**Model**"
      ]
    },
    {
      "cell_type": "code",
      "metadata": {
        "id": "_QKEzP3ROPIW",
        "colab_type": "code",
        "colab": {}
      },
      "source": [
        "# Load pre-trained model\n",
        "def load_pre_trained_model(model_path):\n",
        "  pre=keras.models.load_model(model_path)\n",
        "  for layer in pre.layers:\n",
        "    layer.tainable=True\n",
        "  last_layer= pre.get_layer('mixed_7a')\n",
        "  last_output=last_layer.output\n",
        "\n",
        "  return last_output, pre\n",
        "\n",
        "\n",
        "# Build regression layers\n",
        "def architecture_1(last_output,pre,dropout_rate):\n",
        "  x=layers.Flatten()(last_output)\n",
        "  x=layers.Dense(1024)(x)\n",
        "  x=layers.Dropout(dropout_rate)(x)\n",
        "  x=layers.Dense(1)(x)\n",
        "\n",
        "  return x\n",
        "\n",
        "def architecture_2(last_output,pre,dropout_rate):\n",
        "  x=layers.Flatten()(last_output)\n",
        "  x=layers.Dense(1024)(x)\n",
        "  x=layers.Dropout(dropout_rate)(x)\n",
        "  x=layers.Dense(512)(x)\n",
        "  x=layers.Dropout(dropout_rate)(x)\n",
        "  x=layers.Dense(1)(x)\n",
        "\n",
        "  return x\n",
        "\n",
        "\n",
        "\n",
        "# Put 4 output layers\n",
        "def configureLayers(last_output, pre, dropout_rate, loss_obj, arch_type):\n",
        "  output1=arch_type(last_output,pre,dropout_rate)\n",
        "  output2=arch_type(last_output,pre,dropout_rate)\n",
        "  output3=arch_type(last_output,pre,dropout_rate)\n",
        "  output4=arch_type(last_output,pre,dropout_rate)\n",
        "\n",
        "  model=Model(pre.input,[output1,output2,output3,output4])\n",
        "  model.compile(loss=loss_obj.loss_coord,\n",
        "                optimizer=keras.optimizers.Adam(learning_rate=0.001),\n",
        "                metrics=['acc'])\n",
        "  \n",
        "  return model\n",
        "\n",
        "\n",
        "# Create model\n",
        "def create_model(model, dropout_rate, loss_obj, arch_type):\n",
        "  last_output, pre_trained_model= model\n",
        "  return configureLayers(last_output,pre_trained_model,dropout_rate, loss_obj, arch_type)"
      ],
      "execution_count": null,
      "outputs": []
    },
    {
      "cell_type": "code",
      "metadata": {
        "id": "Z2xDP2Wkq60X",
        "colab_type": "code",
        "colab": {}
      },
      "source": [
        "# Loss function\n",
        "class loss(object):\n",
        "  def __init__(self):\n",
        "    # Loss function is loaded in each output\n",
        "    # idx variable is used to indicate which output is currently being computed\n",
        "    self.idx=0\n",
        "  \n",
        "\n",
        "  def loss_coord(self,y_true,y_pred):\n",
        "    v=K.square(y_true[0][self.idx]- y_pred)\n",
        "\n",
        "    self.idx=(self.idx+1)%4\n",
        "\n",
        "    return v\n",
        "  \n"
      ],
      "execution_count": null,
      "outputs": []
    },
    {
      "cell_type": "markdown",
      "metadata": {
        "id": "uCtes1G-BP3T",
        "colab_type": "text"
      },
      "source": [
        "**Data Process**"
      ]
    },
    {
      "cell_type": "code",
      "metadata": {
        "id": "JPihWAJKsc72",
        "colab_type": "code",
        "colab": {}
      },
      "source": [
        "# Resize images and save them. Return Panda dataframe, which contatins information about resized images.\n",
        "# In 'path' folder, there are 2 sub folders, 'image' and 'label'. \n",
        "# 'images' and 'label' contain image files and xml files (annotation files) respectively.\n",
        "# Since all the models used here has 350 * 350 * 3 input shape, I always pass 350 in 'size' argument\n",
        "def dataProcess1(path,res_path,size):\n",
        "  import math\n",
        "  from imutils import paths\n",
        "  from bs4 import BeautifulSoup\n",
        "\n",
        "  # Load file names in 'image' folders\n",
        "  imagelst = list(paths.list_images(path+'/image'))\n",
        "  \n",
        "  # Empty list, which will contain information about images and be turned into Panda dataframe\n",
        "  data=[]\n",
        "  \n",
        "  # Iterate all the files in 'image' folder\n",
        "  for fname in imagelst:\n",
        "    \n",
        "    # Load xml file corresponding to current image file\n",
        "    filename=fname.split('/')[-1].split('.')[0]\n",
        "    annotfpath=path+'/label/'+filename+'.xml'\n",
        "    contents=open(annotfpath).read()\n",
        "    soup = BeautifulSoup(contents, \"html.parser\")\n",
        "    \n",
        "    # np array of image file\n",
        "    img=cv2.imread(fname)\n",
        "\n",
        "    # Get coordinates of top left vertex and bottom right vertex of the ground truth box of current image\n",
        "    xmin,ymin,xmax,ymax=int(soup.object.xmin.string),int(soup.object.ymin.string), int(soup.object.xmax.string), int(soup.object.ymax.string) \n",
        "    \n",
        "    # Get width and height of current image\n",
        "    width=img.shape[1]\n",
        "    height=img.shape[0]\n",
        "\n",
        "    # Resize the image and save in 'res_path'\n",
        "    img=cv2.resize(img,(size,size))\n",
        "    cv2.imwrite(res_path+'/'+fname.split('/')[-1],img)\n",
        "\n",
        "    # Compute coordinates of a ground truth box of resized image\n",
        "    x1,y1,x2,y2=size/width*xmin, size/height*ymin, size/width*xmax, size/height*ymax\n",
        "\n",
        "    # Compute width, height, and coordinates of the center of a ground truth box of resized image\n",
        "    x,y,w,h=(xmin+xmax)/2, (ymin+ymax)/2, xmax-xmin, ymax-ymin\n",
        "    data.append([fname.split('/')[-1],width,height,x,y,w,h,x1,y1,x2,y2])\n",
        "\n",
        "  # convert the list to Panda dataframe\n",
        "  df=pd.DataFrame(data, columns=['filename','width','height','x','y','w','h','xmin','ymin','xmax','ymax'])\n",
        "\n",
        "  return df"
      ],
      "execution_count": null,
      "outputs": []
    },
    {
      "cell_type": "code",
      "metadata": {
        "id": "oM48I0j6s5ZJ",
        "colab_type": "code",
        "colab": {}
      },
      "source": [
        "# Data augmentation parameters\n",
        "def random_aug(rotate, translate, shear):\n",
        "  import random\n",
        "  lst=[[(0,0),{'x':0,'y':0},(0,0),(1.0,1.0)],[(-random.randrange(rotate),random.randrange(rotate)), {'x':random.randrange(-translate,translate),'y':random.randrange(-translate,translate) },\n",
        "                              (random.randrange(-shear,shear),random.randrange(-shear,shear)), (random.uniform(0.5,1),random.uniform(0.5,1))]   ]\n",
        "\n",
        "  \n",
        "  return [iaa.Fliplr(0.5), \n",
        "          iaa.Flipud(0.5),\n",
        "          iaa.Affine(rotate=lst[random.randrange(2)][0],\n",
        "                     translate_px=lst[random.randrange(2)][1],\n",
        "                     scale=lst[random.randrange(2)][3],\n",
        "                     shear=lst[random.randrange(2)][2])]\n"
      ],
      "execution_count": null,
      "outputs": []
    },
    {
      "cell_type": "code",
      "metadata": {
        "id": "6isF6OcXsw_l",
        "colab_type": "code",
        "colab": {}
      },
      "source": [
        "# Load images in img_path and transform them\n",
        "# img_path : folder contains images\n",
        "# aug_path : folder to save augmented images\n",
        "# df : folder contains xml files info about images in img_path\n",
        "def dataAug(img_path,aug_path,df):\n",
        "\n",
        "  # Load data augmentation parameters\n",
        "  seq=iaa.Sequential(random_aug(65,70,25),random_order=True)\n",
        "\n",
        "  # List to store information about augmented images\n",
        "  data=[]\n",
        "\n",
        "  for index, row in df.iterrows(): \n",
        "    # Filename of current image\n",
        "    fname=row['filename']\n",
        "\n",
        "    # Get coordinates of a bounding box of current image\n",
        "    x_1,y_1,x_2,y_2=row['xmin'],row['ymin'], row['xmax'],row['ymax']\n",
        "\n",
        "    # np array of current image\n",
        "    img=cv2.imread(img_path+'/'+fname)\n",
        "\n",
        "    # Bounding box of current image\n",
        "    bbs = BoundingBoxesOnImage([\n",
        "    BoundingBox(x1=x_1, y1=y_1,x2=x_2, y2=y_2)]\n",
        "    , shape=img.shape)\n",
        "\n",
        "    # Image augmentation\n",
        "    img_aug, bbs_aug=seq(image=img, bounding_boxes=bbs)\n",
        "\n",
        "    # Coordinates of a bounding box of augmented image\n",
        "    xmin,ymin,xmax,ymax=bbs_aug.bounding_boxes[0].x1,  bbs_aug.bounding_boxes[0].y1,  bbs_aug.bounding_boxes[0].x2, bbs_aug.bounding_boxes[0].y2\n",
        "    # Width, height, and coordinates of the center of a bounding box of augmented image\n",
        "    x,y,w,h=(xmax+xmin)/2,(ymin+ymax)/2,xmax-xmin,ymax-ymin\n",
        "    \n",
        "    # Save the augmented image in 'aug_path'\n",
        "    cv2.imwrite(aug_path+'/'+fname, img_aug)\n",
        "\n",
        "    # Append info in the list\n",
        "    data.append([fname,x,y,w,h,xmin,ymin,xmax,ymax])\n",
        "\n",
        "  return pd.DataFrame(data, columns=['filename','x','y','w','h','xmin','ymin','xmax','ymax'])"
      ],
      "execution_count": null,
      "outputs": []
    },
    {
      "cell_type": "code",
      "metadata": {
        "id": "5PI8MNLr9LEf",
        "colab_type": "code",
        "colab": {}
      },
      "source": [
        "# Create Image Data Generator for 'xmin', 'ymin', 'xmax', 'ymax' output\n",
        "def image_datagen1(path,df,size):\n",
        "  train_datagen=ImageDataGenerator(rescale=1./255)\n",
        "\n",
        "  train_generator=train_datagen.flow_from_dataframe(\n",
        "      dataframe=df,\n",
        "      directory=path,\n",
        "      target_size=(size,size),\n",
        "      x_col='filename',\n",
        "      y_col=['xmin','ymin','xmax','ymax'],\n",
        "      class_mode='raw',\n",
        "      batch_size=20)\n",
        "  return train_generator"
      ],
      "execution_count": null,
      "outputs": []
    },
    {
      "cell_type": "code",
      "metadata": {
        "id": "7Z4R_e9ytBUt",
        "colab_type": "code",
        "colab": {}
      },
      "source": [
        "# Create Image Data Generator for 'x', 'y', 'width', 'height' output\n",
        "def image_datagen2(path,df,size):\n",
        "  train_datagen=ImageDataGenerator(rescale=1./255)\n",
        "\n",
        "  train_generator=train_datagen.flow_from_dataframe(\n",
        "      dataframe=df,\n",
        "      directory=path,\n",
        "      target_size=(size,size),\n",
        "      x_col='filename',\n",
        "      y_col=['x','y','w','h'],\n",
        "      class_mode='raw',\n",
        "      batch_size=20)\n",
        "  return train_generator"
      ],
      "execution_count": null,
      "outputs": []
    },
    {
      "cell_type": "markdown",
      "metadata": {
        "id": "QULD2Y7VYUFt",
        "colab_type": "text"
      },
      "source": [
        "**Train model**"
      ]
    },
    {
      "cell_type": "code",
      "metadata": {
        "id": "h1RDucCgsah7",
        "colab_type": "code",
        "colab": {}
      },
      "source": [
        "# Train model\n",
        "# Return a list of histories\n",
        "# model : Model\n",
        "# df_train_resized : Panda dataframe of resized training data\n",
        "# train_resized_path : Folder which contains resized training data\n",
        "# aug_path : Folder to save augemnted data\n",
        "# df_valid : Panda dataframe of resized valid data\n",
        "# resized_valid_path : Folder which contains resized valid data\n",
        "# num_epoh : A number of epoch to train\n",
        "# size : Input shape\n",
        "# cp_path : Folder to save checkpoints\n",
        "# cp_num : A number to start checkpoint\n",
        "# t_generator : Image Data Generator type. \n",
        "#               image_datagen1 or image_datagen2                   \n",
        "def train(model, df_train_resized,train_resized_path,  aug_path, df_valid,resized_valid_path,num_epoch, size,cp_path,cp_num,t_generator):\n",
        "  \n",
        "  # List will contain histories\n",
        "  log=[]\n",
        "\n",
        "\n",
        "  # Create Image Data Generator\n",
        "  train_generator=image_datagen1(train_resized_path, df_img,size)\n",
        "  valid_generator=image_datagen1(resized_valid_path,df_valid, size)\n",
        "  \n",
        "  # Checkpoint\n",
        "  cp_callback=keras.callbacks.ModelCheckpoint(cp_path+'/weights0.ckpt',\n",
        "                                                save_weights_only=True,\n",
        "                                                vebose=1)\n",
        "  # Fit model\n",
        "  history=model.fit(\n",
        "      train_generator,\n",
        "      steps_per_epoch=len(train_generator),\n",
        "      epochs=1,\n",
        "      validation_data=valid_generator,\n",
        "      validation_steps=len(valid_generator),\n",
        "      callbacks=[cp_callback],\n",
        "      verbose=2)\n",
        "  \n",
        "  # Add history of one epoch\n",
        "  log.append(history)\n",
        "\n",
        "\n",
        "  for i in range(num_epoch-1):\n",
        "    print('cp : '+ str(cp_num+i))\n",
        "\n",
        "    # Data augmentation\n",
        "    df_aug=dataAug(train_resized_path,aug_path,df_img)\n",
        "    # Create Image Data Generator\n",
        "    train_generator=t_generator(aug_path, df_aug,size)\n",
        "    cp_callback=keras.callbacks.ModelCheckpoint(cp_path+'/weights.'+str(cp_num+i)+'.ckpt',\n",
        "                                                save_weights_only=True,\n",
        "                                                vebose=1)\n",
        "    # Fit model with augmented data generator\n",
        "    history = model.fit(\n",
        "        train_generator,\n",
        "        steps_per_epoch=len(train_generator),\n",
        "        epochs=1,\n",
        "        validation_data=valid_generator,\n",
        "        validation_steps=len(valid_generator),\n",
        "        callbacks=[cp_callback],\n",
        "        verbose=2)\n",
        "    \n",
        "    log.append(history)\n",
        "\n",
        "\n",
        "  return log"
      ],
      "execution_count": null,
      "outputs": []
    },
    {
      "cell_type": "markdown",
      "metadata": {
        "id": "mCXqFb1zYRW6",
        "colab_type": "text"
      },
      "source": [
        "**Set up data**"
      ]
    },
    {
      "cell_type": "code",
      "metadata": {
        "id": "ftPJCEE-7jil",
        "colab_type": "code",
        "colab": {}
      },
      "source": [
        "# Download and unzip data\n",
        "setData()"
      ],
      "execution_count": null,
      "outputs": []
    },
    {
      "cell_type": "code",
      "metadata": {
        "id": "wClenAlf7-KW",
        "colab_type": "code",
        "colab": {}
      },
      "source": [
        "# Pre_trained model path\n",
        "model_path='drive/My Drive/files/model.h5'"
      ],
      "execution_count": null,
      "outputs": []
    },
    {
      "cell_type": "code",
      "metadata": {
        "id": "SmXLoHURvR4j",
        "colab_type": "code",
        "colab": {}
      },
      "source": [
        "# Load pre trained model\n",
        "pre_model=load_pre_trained_model(model_path)"
      ],
      "execution_count": null,
      "outputs": []
    },
    {
      "cell_type": "code",
      "metadata": {
        "id": "8Zr98yNow4Rh",
        "colab_type": "code",
        "colab": {}
      },
      "source": [
        "# Create a loss function object\n",
        "losss=loss()"
      ],
      "execution_count": null,
      "outputs": []
    },
    {
      "cell_type": "code",
      "metadata": {
        "id": "wN-jW1vJwtJz",
        "colab_type": "code",
        "colab": {}
      },
      "source": [
        "# Create model\n",
        "mm=create_model(pre_model,0.2,losss, architecture_2)"
      ],
      "execution_count": null,
      "outputs": []
    },
    {
      "cell_type": "code",
      "metadata": {
        "id": "J7HyUwanxQ3e",
        "colab_type": "code",
        "colab": {}
      },
      "source": [
        "# Resize training and valid data and create Panda dataframes \n",
        "size=350\n",
        "df_img=dataProcess1('data/data/train','data/data/resized',size)\n",
        "df_valid=dataProcess1('data/data/valid', 'data/data/valid_resized', size)"
      ],
      "execution_count": null,
      "outputs": []
    },
    {
      "cell_type": "code",
      "metadata": {
        "id": "dxJOVSVVyF9p",
        "colab_type": "code",
        "colab": {}
      },
      "source": [
        "# Create folder to save checkpoints\n",
        "!mkdir cp"
      ],
      "execution_count": null,
      "outputs": []
    },
    {
      "cell_type": "markdown",
      "metadata": {
        "id": "tjW-y98XYdTC",
        "colab_type": "text"
      },
      "source": [
        "**Train model**"
      ]
    },
    {
      "cell_type": "code",
      "metadata": {
        "id": "TMXOkf8i8s89",
        "colab_type": "code",
        "colab": {
          "base_uri": "https://localhost:8080/",
          "height": 1000
        },
        "outputId": "87bba3be-f5ab-4c0d-f34f-aeddfd6c2841"
      },
      "source": [
        "# Train model and get history\n",
        "history=train(mm,\n",
        "              df_img,'data/data/resized',\n",
        "              'data/data/train_aug',\n",
        "              df_valid,'data/data/valid_resized',\n",
        "              30,350,'cp',0,\n",
        "              image_datagen2)"
      ],
      "execution_count": null,
      "outputs": [
        {
          "output_type": "stream",
          "text": [
            "Found 1633 validated image filenames.\n",
            "Found 461 validated image filenames.\n",
            "82/82 - 193s - loss: 22842.3965 - dense_2_loss: 5328.4058 - dense_5_loss: 7036.2266 - dense_8_loss: 5130.4082 - dense_11_loss: 5347.3584 - dense_2_acc: 0.0000e+00 - dense_5_acc: 0.0000e+00 - dense_8_acc: 0.0000e+00 - dense_11_acc: 0.0000e+00 - val_loss: 20653.5449 - val_dense_2_loss: 2510.1396 - val_dense_5_loss: 6479.9248 - val_dense_8_loss: 4892.6895 - val_dense_11_loss: 6770.7910 - val_dense_2_acc: 0.0000e+00 - val_dense_5_acc: 0.0000e+00 - val_dense_8_acc: 0.0000e+00 - val_dense_11_acc: 0.0000e+00\n",
            "cp : 0\n",
            "Found 1633 validated image filenames.\n",
            "82/82 - 193s - loss: 18403.3750 - dense_2_loss: 2003.1504 - dense_5_loss: 6251.6895 - dense_8_loss: 4641.9365 - dense_11_loss: 5506.6006 - dense_2_acc: 0.0000e+00 - dense_5_acc: 0.0000e+00 - dense_8_acc: 0.0000e+00 - dense_11_acc: 0.0000e+00 - val_loss: 81145.3281 - val_dense_2_loss: 2042.5922 - val_dense_5_loss: 6151.8589 - val_dense_8_loss: 29283.1094 - val_dense_11_loss: 43667.7656 - val_dense_2_acc: 0.0000e+00 - val_dense_5_acc: 0.0000e+00 - val_dense_8_acc: 0.0000e+00 - val_dense_11_acc: 0.0000e+00\n",
            "cp : 1\n",
            "Found 1633 validated image filenames.\n",
            "82/82 - 195s - loss: 11034.6299 - dense_2_loss: 2079.5378 - dense_5_loss: 4673.3960 - dense_8_loss: 2377.4963 - dense_11_loss: 1904.2024 - dense_2_acc: 0.0000e+00 - dense_5_acc: 0.0000e+00 - dense_8_acc: 0.0000e+00 - dense_11_acc: 0.0000e+00 - val_loss: 104306.8125 - val_dense_2_loss: 2081.3303 - val_dense_5_loss: 4702.7793 - val_dense_8_loss: 34239.2812 - val_dense_11_loss: 63283.4141 - val_dense_2_acc: 0.0000e+00 - val_dense_5_acc: 0.0000e+00 - val_dense_8_acc: 0.0000e+00 - val_dense_11_acc: 0.0000e+00\n",
            "cp : 2\n",
            "Found 1633 validated image filenames.\n",
            "82/82 - 203s - loss: 21966.9492 - dense_2_loss: 3704.0144 - dense_5_loss: 11144.0010 - dense_8_loss: 3934.5232 - dense_11_loss: 3184.4104 - dense_2_acc: 0.0000e+00 - dense_5_acc: 0.0000e+00 - dense_8_acc: 0.0000e+00 - dense_11_acc: 0.0000e+00 - val_loss: 102752.7734 - val_dense_2_loss: 2629.9392 - val_dense_5_loss: 7857.7056 - val_dense_8_loss: 32854.9297 - val_dense_11_loss: 59410.1914 - val_dense_2_acc: 0.0000e+00 - val_dense_5_acc: 0.0000e+00 - val_dense_8_acc: 0.0000e+00 - val_dense_11_acc: 0.0000e+00\n",
            "cp : 3\n",
            "Found 1633 validated image filenames.\n",
            "82/82 - 199s - loss: 5826.9600 - dense_2_loss: 1316.9120 - dense_5_loss: 2046.9247 - dense_8_loss: 1515.1127 - dense_11_loss: 948.0108 - dense_2_acc: 0.0000e+00 - dense_5_acc: 0.0000e+00 - dense_8_acc: 0.0000e+00 - dense_11_acc: 0.0000e+00 - val_loss: 122653.7266 - val_dense_2_loss: 1443.7291 - val_dense_5_loss: 8432.5664 - val_dense_8_loss: 43426.5078 - val_dense_11_loss: 69350.9141 - val_dense_2_acc: 0.0000e+00 - val_dense_5_acc: 0.0000e+00 - val_dense_8_acc: 0.0000e+00 - val_dense_11_acc: 0.0000e+00\n",
            "cp : 4\n",
            "Found 1633 validated image filenames.\n",
            "82/82 - 205s - loss: 15135.7822 - dense_2_loss: 2088.6021 - dense_5_loss: 6245.4600 - dense_8_loss: 3581.1797 - dense_11_loss: 3220.5374 - dense_2_acc: 0.0000e+00 - dense_5_acc: 0.0000e+00 - dense_8_acc: 0.0000e+00 - dense_11_acc: 0.0000e+00 - val_loss: 69187.3906 - val_dense_2_loss: 1133.0897 - val_dense_5_loss: 3949.2217 - val_dense_8_loss: 26240.4102 - val_dense_11_loss: 37864.6680 - val_dense_2_acc: 0.0000e+00 - val_dense_5_acc: 0.0000e+00 - val_dense_8_acc: 0.0000e+00 - val_dense_11_acc: 0.0000e+00\n",
            "cp : 5\n",
            "Found 1633 validated image filenames.\n",
            "82/82 - 205s - loss: 16325.1572 - dense_2_loss: 1347.3141 - dense_5_loss: 10903.6621 - dense_8_loss: 1558.4020 - dense_11_loss: 2515.7852 - dense_2_acc: 0.0000e+00 - dense_5_acc: 0.0000e+00 - dense_8_acc: 0.0000e+00 - dense_11_acc: 0.0000e+00 - val_loss: 86837.3047 - val_dense_2_loss: 990.1202 - val_dense_5_loss: 8796.8750 - val_dense_8_loss: 27287.1953 - val_dense_11_loss: 49763.1094 - val_dense_2_acc: 0.0000e+00 - val_dense_5_acc: 0.0000e+00 - val_dense_8_acc: 0.0000e+00 - val_dense_11_acc: 0.0000e+00\n",
            "cp : 6\n",
            "Found 1633 validated image filenames.\n",
            "82/82 - 207s - loss: 13891.5078 - dense_2_loss: 2533.5637 - dense_5_loss: 6344.8545 - dense_8_loss: 2434.6155 - dense_11_loss: 2578.4739 - dense_2_acc: 0.0000e+00 - dense_5_acc: 0.0000e+00 - dense_8_acc: 0.0000e+00 - dense_11_acc: 0.0000e+00 - val_loss: 89570.0625 - val_dense_2_loss: 6982.1069 - val_dense_5_loss: 3033.4282 - val_dense_8_loss: 28206.8496 - val_dense_11_loss: 51347.6836 - val_dense_2_acc: 0.0000e+00 - val_dense_5_acc: 0.0000e+00 - val_dense_8_acc: 0.0000e+00 - val_dense_11_acc: 0.0000e+00\n",
            "cp : 7\n",
            "Found 1633 validated image filenames.\n",
            "82/82 - 208s - loss: 13273.6328 - dense_2_loss: 3475.3262 - dense_5_loss: 4545.0078 - dense_8_loss: 2172.6396 - dense_11_loss: 3080.6602 - dense_2_acc: 0.0000e+00 - dense_5_acc: 0.0000e+00 - dense_8_acc: 0.0000e+00 - dense_11_acc: 0.0000e+00 - val_loss: 79639.6797 - val_dense_2_loss: 3009.9790 - val_dense_5_loss: 4665.5835 - val_dense_8_loss: 25333.5488 - val_dense_11_loss: 46630.5664 - val_dense_2_acc: 0.0000e+00 - val_dense_5_acc: 0.0000e+00 - val_dense_8_acc: 0.0000e+00 - val_dense_11_acc: 0.0000e+00\n",
            "cp : 8\n",
            "Found 1633 validated image filenames.\n",
            "82/82 - 206s - loss: 15554.5801 - dense_2_loss: 3842.6323 - dense_5_loss: 5975.5068 - dense_8_loss: 2596.5232 - dense_11_loss: 3139.9202 - dense_2_acc: 0.0000e+00 - dense_5_acc: 0.0000e+00 - dense_8_acc: 0.0000e+00 - dense_11_acc: 0.0000e+00 - val_loss: 76046.8281 - val_dense_2_loss: 1573.2548 - val_dense_5_loss: 4549.6050 - val_dense_8_loss: 29426.0508 - val_dense_11_loss: 40497.9258 - val_dense_2_acc: 0.0000e+00 - val_dense_5_acc: 0.0000e+00 - val_dense_8_acc: 0.0000e+00 - val_dense_11_acc: 0.0000e+00\n",
            "cp : 9\n",
            "Found 1633 validated image filenames.\n",
            "82/82 - 213s - loss: 9930.4258 - dense_2_loss: 1635.7000 - dense_5_loss: 2405.6672 - dense_8_loss: 2877.0640 - dense_11_loss: 3011.9944 - dense_2_acc: 0.0000e+00 - dense_5_acc: 0.0000e+00 - dense_8_acc: 0.0000e+00 - dense_11_acc: 0.0000e+00 - val_loss: 82547.3906 - val_dense_2_loss: 1771.9126 - val_dense_5_loss: 4440.0283 - val_dense_8_loss: 30780.9492 - val_dense_11_loss: 45554.4922 - val_dense_2_acc: 0.0000e+00 - val_dense_5_acc: 0.0000e+00 - val_dense_8_acc: 0.0000e+00 - val_dense_11_acc: 0.0000e+00\n",
            "cp : 10\n",
            "Found 1633 validated image filenames.\n",
            "82/82 - 211s - loss: 10386.6113 - dense_2_loss: 1431.0996 - dense_5_loss: 3040.4829 - dense_8_loss: 2394.6606 - dense_11_loss: 3520.3655 - dense_2_acc: 0.0000e+00 - dense_5_acc: 0.0000e+00 - dense_8_acc: 0.0000e+00 - dense_11_acc: 0.0000e+00 - val_loss: 66222.4219 - val_dense_2_loss: 1470.9326 - val_dense_5_loss: 5011.0845 - val_dense_8_loss: 21540.3867 - val_dense_11_loss: 38200.0234 - val_dense_2_acc: 0.0000e+00 - val_dense_5_acc: 0.0000e+00 - val_dense_8_acc: 0.0000e+00 - val_dense_11_acc: 0.0000e+00\n",
            "cp : 11\n",
            "Found 1633 validated image filenames.\n",
            "82/82 - 212s - loss: 20922.9023 - dense_2_loss: 3075.8591 - dense_5_loss: 4887.4800 - dense_8_loss: 7308.2700 - dense_11_loss: 5651.2920 - dense_2_acc: 0.0000e+00 - dense_5_acc: 0.0000e+00 - dense_8_acc: 0.0000e+00 - dense_11_acc: 0.0000e+00 - val_loss: 39390.1914 - val_dense_2_loss: 3905.3135 - val_dense_5_loss: 3837.8948 - val_dense_8_loss: 8238.3730 - val_dense_11_loss: 23408.6094 - val_dense_2_acc: 0.0000e+00 - val_dense_5_acc: 0.0000e+00 - val_dense_8_acc: 0.0000e+00 - val_dense_11_acc: 0.0000e+00\n",
            "cp : 12\n",
            "Found 1633 validated image filenames.\n",
            "82/82 - 212s - loss: 8118.9077 - dense_2_loss: 1408.6862 - dense_5_loss: 3123.9570 - dense_8_loss: 2034.8282 - dense_11_loss: 1551.4344 - dense_2_acc: 0.0000e+00 - dense_5_acc: 0.0000e+00 - dense_8_acc: 0.0000e+00 - dense_11_acc: 0.0000e+00 - val_loss: 103147.7656 - val_dense_2_loss: 2395.6821 - val_dense_5_loss: 4723.5801 - val_dense_8_loss: 36258.9609 - val_dense_11_loss: 59769.5352 - val_dense_2_acc: 0.0000e+00 - val_dense_5_acc: 0.0000e+00 - val_dense_8_acc: 0.0000e+00 - val_dense_11_acc: 0.0000e+00\n",
            "cp : 13\n",
            "Found 1633 validated image filenames.\n",
            "82/82 - 211s - loss: 17079.5059 - dense_2_loss: 4018.5225 - dense_5_loss: 3757.5359 - dense_8_loss: 4357.5522 - dense_11_loss: 4945.8965 - dense_2_acc: 0.0000e+00 - dense_5_acc: 0.0000e+00 - dense_8_acc: 0.0000e+00 - dense_11_acc: 0.0000e+00 - val_loss: 69922.3438 - val_dense_2_loss: 8316.9473 - val_dense_5_loss: 5428.7847 - val_dense_8_loss: 23614.3867 - val_dense_11_loss: 32562.2188 - val_dense_2_acc: 0.0000e+00 - val_dense_5_acc: 0.0000e+00 - val_dense_8_acc: 0.0000e+00 - val_dense_11_acc: 0.0000e+00\n",
            "cp : 14\n",
            "Found 1633 validated image filenames.\n",
            "82/82 - 212s - loss: 18492.0352 - dense_2_loss: 3354.9980 - dense_5_loss: 8496.6895 - dense_8_loss: 3936.7434 - dense_11_loss: 2703.6057 - dense_2_acc: 0.0000e+00 - dense_5_acc: 0.0000e+00 - dense_8_acc: 0.0000e+00 - dense_11_acc: 0.0000e+00 - val_loss: 54823.0195 - val_dense_2_loss: 1434.6985 - val_dense_5_loss: 4540.4707 - val_dense_8_loss: 18073.5625 - val_dense_11_loss: 30774.2891 - val_dense_2_acc: 0.0000e+00 - val_dense_5_acc: 0.0000e+00 - val_dense_8_acc: 0.0000e+00 - val_dense_11_acc: 0.0000e+00\n",
            "cp : 15\n",
            "Found 1633 validated image filenames.\n",
            "82/82 - 209s - loss: 16665.7656 - dense_2_loss: 2514.6643 - dense_5_loss: 4784.1401 - dense_8_loss: 4953.6572 - dense_11_loss: 4413.3076 - dense_2_acc: 0.0000e+00 - dense_5_acc: 0.0000e+00 - dense_8_acc: 0.0000e+00 - dense_11_acc: 0.0000e+00 - val_loss: 97790.0156 - val_dense_2_loss: 2570.3225 - val_dense_5_loss: 5528.2861 - val_dense_8_loss: 35732.2969 - val_dense_11_loss: 53959.1055 - val_dense_2_acc: 0.0000e+00 - val_dense_5_acc: 0.0000e+00 - val_dense_8_acc: 0.0000e+00 - val_dense_11_acc: 0.0000e+00\n",
            "cp : 16\n",
            "Found 1633 validated image filenames.\n",
            "82/82 - 211s - loss: 15433.4170 - dense_2_loss: 2873.7346 - dense_5_loss: 5307.0967 - dense_8_loss: 3105.7834 - dense_11_loss: 4146.8008 - dense_2_acc: 0.0000e+00 - dense_5_acc: 0.0000e+00 - dense_8_acc: 0.0000e+00 - dense_11_acc: 0.0000e+00 - val_loss: 84803.0156 - val_dense_2_loss: 1932.0155 - val_dense_5_loss: 3026.5522 - val_dense_8_loss: 34141.7734 - val_dense_11_loss: 45702.6758 - val_dense_2_acc: 0.0000e+00 - val_dense_5_acc: 0.0000e+00 - val_dense_8_acc: 0.0000e+00 - val_dense_11_acc: 0.0000e+00\n",
            "cp : 17\n",
            "Found 1633 validated image filenames.\n",
            "82/82 - 211s - loss: 18272.4570 - dense_2_loss: 7336.1279 - dense_5_loss: 4126.2241 - dense_8_loss: 4352.7896 - dense_11_loss: 2457.3149 - dense_2_acc: 0.0000e+00 - dense_5_acc: 0.0000e+00 - dense_8_acc: 0.0000e+00 - dense_11_acc: 0.0000e+00 - val_loss: 74638.5625 - val_dense_2_loss: 4890.7485 - val_dense_5_loss: 2863.1863 - val_dense_8_loss: 21314.0215 - val_dense_11_loss: 45570.6133 - val_dense_2_acc: 0.0000e+00 - val_dense_5_acc: 0.0000e+00 - val_dense_8_acc: 0.0000e+00 - val_dense_11_acc: 0.0000e+00\n",
            "cp : 18\n",
            "Found 1633 validated image filenames.\n",
            "82/82 - 213s - loss: 20517.7227 - dense_2_loss: 2954.6685 - dense_5_loss: 5706.4839 - dense_8_loss: 6571.5010 - dense_11_loss: 5285.0669 - dense_2_acc: 0.0000e+00 - dense_5_acc: 0.0000e+00 - dense_8_acc: 0.0000e+00 - dense_11_acc: 0.0000e+00 - val_loss: 68642.7656 - val_dense_2_loss: 2914.3391 - val_dense_5_loss: 7522.1064 - val_dense_8_loss: 19090.3516 - val_dense_11_loss: 39115.9844 - val_dense_2_acc: 0.0000e+00 - val_dense_5_acc: 0.0000e+00 - val_dense_8_acc: 0.0000e+00 - val_dense_11_acc: 0.0000e+00\n",
            "cp : 19\n",
            "Found 1633 validated image filenames.\n",
            "82/82 - 215s - loss: 16170.2607 - dense_2_loss: 2135.7966 - dense_5_loss: 5743.0356 - dense_8_loss: 4282.4575 - dense_11_loss: 4008.9690 - dense_2_acc: 0.0000e+00 - dense_5_acc: 0.0000e+00 - dense_8_acc: 0.0000e+00 - dense_11_acc: 0.0000e+00 - val_loss: 32220.3125 - val_dense_2_loss: 1974.9509 - val_dense_5_loss: 3081.3455 - val_dense_8_loss: 6654.8706 - val_dense_11_loss: 20509.1445 - val_dense_2_acc: 0.0000e+00 - val_dense_5_acc: 0.0000e+00 - val_dense_8_acc: 0.0000e+00 - val_dense_11_acc: 0.0000e+00\n",
            "cp : 20\n",
            "Found 1633 validated image filenames.\n",
            "82/82 - 211s - loss: 16384.6152 - dense_2_loss: 6552.8491 - dense_5_loss: 4331.3823 - dense_8_loss: 2481.4099 - dense_11_loss: 3018.9736 - dense_2_acc: 0.0000e+00 - dense_5_acc: 0.0000e+00 - dense_8_acc: 0.0000e+00 - dense_11_acc: 0.0000e+00 - val_loss: 74574.6484 - val_dense_2_loss: 1691.7050 - val_dense_5_loss: 2618.9753 - val_dense_8_loss: 29202.1230 - val_dense_11_loss: 41061.8398 - val_dense_2_acc: 0.0000e+00 - val_dense_5_acc: 0.0000e+00 - val_dense_8_acc: 0.0000e+00 - val_dense_11_acc: 0.0000e+00\n",
            "cp : 21\n",
            "Found 1633 validated image filenames.\n",
            "82/82 - 214s - loss: 20191.7578 - dense_2_loss: 6432.4644 - dense_5_loss: 5856.7812 - dense_8_loss: 3568.9204 - dense_11_loss: 4333.5942 - dense_2_acc: 0.0000e+00 - dense_5_acc: 0.0000e+00 - dense_8_acc: 0.0000e+00 - dense_11_acc: 0.0000e+00 - val_loss: 49515.3047 - val_dense_2_loss: 2696.6108 - val_dense_5_loss: 7183.9497 - val_dense_8_loss: 14487.4570 - val_dense_11_loss: 25147.2891 - val_dense_2_acc: 0.0000e+00 - val_dense_5_acc: 0.0000e+00 - val_dense_8_acc: 0.0000e+00 - val_dense_11_acc: 0.0000e+00\n",
            "cp : 22\n",
            "Found 1633 validated image filenames.\n",
            "82/82 - 210s - loss: 10067.6934 - dense_2_loss: 2526.6023 - dense_5_loss: 2576.8364 - dense_8_loss: 2231.3496 - dense_11_loss: 2732.9058 - dense_2_acc: 0.0000e+00 - dense_5_acc: 0.0000e+00 - dense_8_acc: 0.0000e+00 - dense_11_acc: 0.0000e+00 - val_loss: 74830.7969 - val_dense_2_loss: 1861.4877 - val_dense_5_loss: 3489.2234 - val_dense_8_loss: 23095.0273 - val_dense_11_loss: 46385.0430 - val_dense_2_acc: 0.0000e+00 - val_dense_5_acc: 0.0000e+00 - val_dense_8_acc: 0.0000e+00 - val_dense_11_acc: 0.0000e+00\n",
            "cp : 23\n",
            "Found 1633 validated image filenames.\n",
            "82/82 - 209s - loss: 18181.6016 - dense_2_loss: 2012.6709 - dense_5_loss: 3976.2485 - dense_8_loss: 5835.5552 - dense_11_loss: 6357.1250 - dense_2_acc: 0.0000e+00 - dense_5_acc: 0.0000e+00 - dense_8_acc: 0.0000e+00 - dense_11_acc: 0.0000e+00 - val_loss: 47913.7891 - val_dense_2_loss: 4377.5938 - val_dense_5_loss: 4876.2510 - val_dense_8_loss: 14558.1768 - val_dense_11_loss: 24101.7656 - val_dense_2_acc: 0.0000e+00 - val_dense_5_acc: 0.0000e+00 - val_dense_8_acc: 0.0000e+00 - val_dense_11_acc: 0.0000e+00\n",
            "cp : 24\n",
            "Found 1633 validated image filenames.\n",
            "82/82 - 213s - loss: 7321.0894 - dense_2_loss: 2082.5242 - dense_5_loss: 3062.5454 - dense_8_loss: 1155.2400 - dense_11_loss: 1020.7813 - dense_2_acc: 0.0000e+00 - dense_5_acc: 0.0000e+00 - dense_8_acc: 0.0000e+00 - dense_11_acc: 0.0000e+00 - val_loss: 78079.9688 - val_dense_2_loss: 1035.9990 - val_dense_5_loss: 4182.8838 - val_dense_8_loss: 25216.0762 - val_dense_11_loss: 47645.0117 - val_dense_2_acc: 0.0000e+00 - val_dense_5_acc: 0.0000e+00 - val_dense_8_acc: 0.0000e+00 - val_dense_11_acc: 0.0000e+00\n",
            "cp : 25\n",
            "Found 1633 validated image filenames.\n",
            "82/82 - 214s - loss: 19525.4375 - dense_2_loss: 3289.3049 - dense_5_loss: 11755.6963 - dense_8_loss: 2121.9685 - dense_11_loss: 2358.4658 - dense_2_acc: 0.0000e+00 - dense_5_acc: 0.0000e+00 - dense_8_acc: 0.0000e+00 - dense_11_acc: 0.0000e+00 - val_loss: 83704.5625 - val_dense_2_loss: 2223.3564 - val_dense_5_loss: 2234.6191 - val_dense_8_loss: 30259.3730 - val_dense_11_loss: 48987.2148 - val_dense_2_acc: 0.0000e+00 - val_dense_5_acc: 0.0000e+00 - val_dense_8_acc: 0.0000e+00 - val_dense_11_acc: 0.0000e+00\n",
            "cp : 26\n",
            "Found 1633 validated image filenames.\n",
            "82/82 - 214s - loss: 9143.3115 - dense_2_loss: 1771.0616 - dense_5_loss: 4235.6377 - dense_8_loss: 1436.2097 - dense_11_loss: 1700.4023 - dense_2_acc: 0.0000e+00 - dense_5_acc: 0.0000e+00 - dense_8_acc: 0.0000e+00 - dense_11_acc: 0.0000e+00 - val_loss: 89636.3438 - val_dense_2_loss: 1975.1573 - val_dense_5_loss: 4210.5396 - val_dense_8_loss: 31779.7578 - val_dense_11_loss: 51670.8867 - val_dense_2_acc: 0.0000e+00 - val_dense_5_acc: 0.0000e+00 - val_dense_8_acc: 0.0000e+00 - val_dense_11_acc: 0.0000e+00\n",
            "cp : 27\n",
            "Found 1633 validated image filenames.\n",
            "82/82 - 215s - loss: 5736.8701 - dense_2_loss: 665.4892 - dense_5_loss: 2951.6345 - dense_8_loss: 925.8261 - dense_11_loss: 1193.9213 - dense_2_acc: 0.0000e+00 - dense_5_acc: 0.0000e+00 - dense_8_acc: 0.0000e+00 - dense_11_acc: 0.0000e+00 - val_loss: 77365.3594 - val_dense_2_loss: 1581.2887 - val_dense_5_loss: 4884.4805 - val_dense_8_loss: 25381.6836 - val_dense_11_loss: 45517.8984 - val_dense_2_acc: 0.0000e+00 - val_dense_5_acc: 0.0000e+00 - val_dense_8_acc: 0.0000e+00 - val_dense_11_acc: 0.0000e+00\n",
            "cp : 28\n",
            "Found 1633 validated image filenames.\n",
            "82/82 - 211s - loss: 6192.2139 - dense_2_loss: 1961.4999 - dense_5_loss: 2524.2646 - dense_8_loss: 675.3702 - dense_11_loss: 1031.0785 - dense_2_acc: 0.0000e+00 - dense_5_acc: 0.0000e+00 - dense_8_acc: 0.0000e+00 - dense_11_acc: 0.0000e+00 - val_loss: 82730.9141 - val_dense_2_loss: 3320.6030 - val_dense_5_loss: 4641.8076 - val_dense_8_loss: 33406.0547 - val_dense_11_loss: 41362.4609 - val_dense_2_acc: 0.0000e+00 - val_dense_5_acc: 0.0000e+00 - val_dense_8_acc: 0.0000e+00 - val_dense_11_acc: 0.0000e+00\n"
          ],
          "name": "stdout"
        }
      ]
    },
    {
      "cell_type": "markdown",
      "metadata": {
        "id": "1dp9NigbYf68",
        "colab_type": "text"
      },
      "source": [
        "**Report graphs**"
      ]
    },
    {
      "cell_type": "code",
      "metadata": {
        "id": "PwD1nTgzFJ99",
        "colab_type": "code",
        "colab": {}
      },
      "source": [
        "# History to list\n",
        "def history_to_list(history_list):\n",
        "  result=[]\n",
        "  loss=[]\n",
        "  loss_1=[]\n",
        "  loss_2=[]\n",
        "  loss_3=[]\n",
        "  loss_4=[]\n",
        "  loss_val=[]\n",
        "  loss_1_val=[]\n",
        "  loss_2_val=[]\n",
        "  loss_3_val=[]\n",
        "  loss_4_val=[]\n",
        "  for i in range(len(history_list)):\n",
        "    tmp=list(history_list[i].history.values())\n",
        "    #loss.append(tmp['loss'])\n",
        "    #print(history_list[i].history)\n",
        "    loss.append(tmp[0])\n",
        "    loss_1.append(tmp[1])\n",
        "    loss_2.append(tmp[2])\n",
        "    loss_3.append(tmp[3])\n",
        "    loss_4.append(tmp[4])\n",
        "    loss_val.append(tmp[9])\n",
        "    loss_1_val.append(tmp[10])\n",
        "    loss_2_val.append(tmp[11])\n",
        "    loss_3_val.append(tmp[12])\n",
        "    loss_4_val.append(tmp[13])\n",
        "  return [loss, loss_1,loss_2,loss_3,loss_4, loss_val, loss_1_val, loss_2_val, loss_3_val, loss_4_val]\n",
        "\n",
        "# List to graph\n",
        "def list_to_graph(lists):\n",
        "  epochs=range(len(lists[0]))\n",
        "  plt.ylim(0,100000)\n",
        "  train1,=plt.plot(epochs,lists[0])\n",
        "  valid1,=plt.plot(epochs,lists[5])\n",
        "  plt.legend([(train1),(valid1)],['train','valid'])\n",
        "  plt.title('Training and validation loss')\n",
        "  plt.figure()\n",
        "\n",
        "\n",
        "  epochs=range(len(lists[0]))\n",
        "  plt.ylim(0,60000)\n",
        "  train1,=plt.plot(epochs,lists[1])\n",
        "  valid1,=plt.plot(epochs,lists[6])\n",
        "  plt.legend([(train1),(valid1)],['train','valid'])\n",
        "  plt.title('Training and validation loss of ouput 1')\n",
        "  plt.figure()\n",
        "\n",
        "  #epochs=range(len(lists[0]))\n",
        "  plt.ylim(0,60000)\n",
        "  train1,=plt.plot(epochs,lists[2])\n",
        "  valid1,=plt.plot(epochs,lists[7])\n",
        "  plt.legend([(train1),(valid1)],['train','valid'])\n",
        "  plt.title('Training and validation loss of ouput 2')\n",
        "  plt.figure()\n",
        "\n",
        "  #epochs=range(len(lists[0]))\n",
        "  plt.ylim(0,60000)\n",
        "  train1,=plt.plot(epochs,lists[3])\n",
        "  valid1,=plt.plot(epochs,lists[8])\n",
        "  plt.legend([(train1),(valid1)],['train','valid'])\n",
        "  plt.title('Training and validation loss of ouput 3')\n",
        "  plt.figure()\n",
        "\n",
        "\n",
        "  #epochs=range(len(lists[0]))\n",
        "  plt.ylim(0,60000)\n",
        "  train1,=plt.plot(epochs,lists[4])\n",
        "  valid1,=plt.plot(epochs,lists[9])\n",
        "  plt.legend([(train1),(valid1)],['train','valid'])\n",
        "  plt.title('Training and validation loss of ouput 4')\n",
        "  plt.figure()\n",
        "  \n",
        "\n",
        "\n"
      ],
      "execution_count": null,
      "outputs": []
    },
    {
      "cell_type": "code",
      "metadata": {
        "id": "JCPrH8Z1GYTB",
        "colab_type": "code",
        "colab": {
          "base_uri": "https://localhost:8080/",
          "height": 1000
        },
        "outputId": "5bef0112-ef97-49d5-973e-3960bb551bfa"
      },
      "source": [
        "# Draw graphs with history list\n",
        "lists=history_to_list(history)\n",
        "list_to_graph(lists)"
      ],
      "execution_count": null,
      "outputs": [
        {
          "output_type": "display_data",
          "data": {
            "image/png": "[encoded data removed]",
            "text/plain": [
              "<Figure size 432x288 with 1 Axes>"
            ]
          },
          "metadata": {
            "tags": [],
            "needs_background": "light"
          }
        },
        {
          "output_type": "display_data",
          "data": {
            "image/png": "[encoded data removed]",
            "text/plain": [
              "<Figure size 432x288 with 1 Axes>"
            ]
          },
          "metadata": {
            "tags": [],
            "needs_background": "light"
          }
        },
        {
          "output_type": "display_data",
          "data": {
            "image/png": "[encoded data removed]",
            "text/plain": [
              "<Figure size 432x288 with 1 Axes>"
            ]
          },
          "metadata": {
            "tags": [],
            "needs_background": "light"
          }
        },
        {
          "output_type": "display_data",
          "data": {
            "image/png": "[encoded data removed]",
            "text/plain": [
              "<Figure size 432x288 with 1 Axes>"
            ]
          },
          "metadata": {
            "tags": [],
            "needs_background": "light"
          }
        },
        {
          "output_type": "display_data",
          "data": {
            "image/png": "[encoded data removed]",
            "text/plain": [
              "<Figure size 432x288 with 1 Axes>"
            ]
          },
          "metadata": {
            "tags": [],
            "needs_background": "light"
          }
        },
        {
          "output_type": "display_data",
          "data": {
            "text/plain": [
              "<Figure size 432x288 with 0 Axes>"
            ]
          },
          "metadata": {
            "tags": []
          }
        }
      ]
    },
    {
      "cell_type": "markdown",
      "metadata": {
        "id": "5TeHdY8XYjRG",
        "colab_type": "text"
      },
      "source": [
        "**Test**"
      ]
    },
    {
      "cell_type": "code",
      "metadata": {
        "id": "NMKsKaVRICE_",
        "colab_type": "code",
        "colab": {}
      },
      "source": [
        "# Create flder to save tested images\n",
        "!mkdir test_boxed"
      ],
      "execution_count": null,
      "outputs": []
    },
    {
      "cell_type": "code",
      "metadata": {
        "id": "EIYmYIhGICIK",
        "colab_type": "code",
        "colab": {}
      },
      "source": [
        "# With prediction result, draw a predicted bounding box and ground truth box on an image\n",
        "def test_model(df,orig_img_path, path_to_save_result, result):\n",
        "  from matplotlib.pyplot import imshow\n",
        "\n",
        "  ss=df['filename']\n",
        "  for i in range(len(ss)):\n",
        "\n",
        "    f_path=orig_img_path+'/'+ss[i]\n",
        "    \n",
        "    img=cv2.imread(f_path)\n",
        "    \n",
        "    # Predicted box\n",
        "    box=BoundingBoxesOnImage([BoundingBox(x1=result[0][i],y1=result[1][i],x2=result[2][i],y2=result[3][i])],shape=img.shape)\n",
        "    # Ground truth box\n",
        "    ground_truth_box=BoundingBoxesOnImage([BoundingBox(x1=df['xmin'][i],y1=df['ymin'][i],x2=df['xmax'][i],y2=df['ymax'][i])],shape=img.shape)\n",
        "    \n",
        "    # Draw boxes\n",
        "    img_boxed=box.draw_on_image(img, size=2, color=[0,0,255])\n",
        "    img_boxed=ground_truth_box.draw_on_image(img_boxed,size=2,color=[255,0,0])\n",
        "\n",
        "    # Save drawn image\n",
        "    cv2.imwrite(path_to_save_result+'/'+ss[i],img_boxed)"
      ],
      "execution_count": null,
      "outputs": []
    },
    {
      "cell_type": "code",
      "metadata": {
        "id": "tr6bYcoT6Q9T",
        "colab_type": "code",
        "colab": {}
      },
      "source": [
        "# Resize images for test and create Panda dataframe\n",
        "df_test= dataProcess1('data/data/test','data/data/test_resized',350)"
      ],
      "execution_count": null,
      "outputs": []
    },
    {
      "cell_type": "code",
      "metadata": {
        "id": "Gjh7WBX36ouq",
        "colab_type": "code",
        "colab": {
          "base_uri": "https://localhost:8080/",
          "height": 34
        },
        "outputId": "e3c664f7-1d09-4992-8b0e-9b4a50955870"
      },
      "source": [
        "# Create Image Data Generator for test\n",
        "test_generator=image_datagen2('data/data/test_resized',df_test,350)"
      ],
      "execution_count": null,
      "outputs": [
        {
          "output_type": "stream",
          "text": [
            "Found 236 validated image filenames.\n"
          ],
          "name": "stdout"
        }
      ]
    },
    {
      "cell_type": "code",
      "metadata": {
        "id": "j_lIixZbJhnP",
        "colab_type": "code",
        "colab": {}
      },
      "source": [
        "# Prediction with trained model\n",
        "result=mm.predict(test_generator)"
      ],
      "execution_count": null,
      "outputs": []
    },
    {
      "cell_type": "code",
      "metadata": {
        "id": "Un88qkKN7SAm",
        "colab_type": "code",
        "colab": {}
      },
      "source": [
        "# Create folder to save predicted images\n",
        "!mkdir test_boxed"
      ],
      "execution_count": null,
      "outputs": []
    },
    {
      "cell_type": "code",
      "metadata": {
        "id": "MLKKeVo6Iu6P",
        "colab_type": "code",
        "colab": {}
      },
      "source": [
        "# Draw bounding boxes with result and save those images \n",
        "test_model(df_test, 'data/data/test_resized', 'test_boxed',result)"
      ],
      "execution_count": null,
      "outputs": []
    },
    {
      "cell_type": "code",
      "metadata": {
        "id": "IhtuAPUtYl5c",
        "colab_type": "code",
        "colab": {}
      },
      "source": [
        ""
      ],
      "execution_count": null,
      "outputs": []
    },
    {
      "cell_type": "code",
      "metadata": {
        "id": "fhufSX8LYl9C",
        "colab_type": "code",
        "colab": {}
      },
      "source": [
        ""
      ],
      "execution_count": null,
      "outputs": []
    },
    {
      "cell_type": "code",
      "metadata": {
        "id": "4FzPzBNkYmAT",
        "colab_type": "code",
        "colab": {}
      },
      "source": [
        ""
      ],
      "execution_count": null,
      "outputs": []
    },
    {
      "cell_type": "code",
      "metadata": {
        "id": "kxCVVCdAYmDo",
        "colab_type": "code",
        "colab": {}
      },
      "source": [
        ""
      ],
      "execution_count": null,
      "outputs": []
    },
    {
      "cell_type": "code",
      "metadata": {
        "id": "5ULTHhO9YmJR",
        "colab_type": "code",
        "colab": {}
      },
      "source": [
        ""
      ],
      "execution_count": null,
      "outputs": []
    },
    {
      "cell_type": "code",
      "metadata": {
        "id": "mP2ry5ziymLY",
        "colab_type": "code",
        "colab": {}
      },
      "source": [
        "# If history is stored in a text file, use this to draw graphs\n",
        "def extract_loss(line):\n",
        "  lst=line.split(' ')\n",
        "  result=[]\n",
        "  for i in range(len(lst)):\n",
        "    if 'loss:' in lst[i]:\n",
        "      result.append(lst[i+1])\n",
        "  return result\n",
        "  \n",
        "def file_to_list(filepath):\n",
        "  \n",
        "\n",
        "  f=open(filepath,'r')\n",
        "  l=f.readline()\n",
        "  df_result=[]\n",
        "  while l:\n",
        "    print(l)\n",
        "    l=f.readline()\n",
        "\n",
        "    if '82/82' in l:\n",
        "      df_result.append(extract_loss(l))\n",
        "  f.close()\n",
        "  return df_result\n",
        "\n",
        "\n",
        "def make_list_graph(idx, lst):\n",
        "  result=[]\n",
        "  for i in range(len(lst)):\n",
        "    result.append(float(lst[i][idx]))\n",
        "  return result\n"
      ],
      "execution_count": null,
      "outputs": []
    },
    {
      "cell_type": "code",
      "metadata": {
        "id": "czgSHgbn7_CD",
        "colab_type": "code",
        "colab": {}
      },
      "source": [
        ""
      ],
      "execution_count": null,
      "outputs": []
    }
  ]
}